{
 "cells": [
  {
   "cell_type": "code",
   "execution_count": 18,
   "metadata": {},
   "outputs": [],
   "source": [
    "import numpy as np"
   ]
  },
  {
   "cell_type": "code",
   "execution_count": 19,
   "metadata": {},
   "outputs": [],
   "source": [
    "def ANOVA(x):\n",
    "    \n",
    "    \"\"\"对于方差相同的正态母体,计算有无显著影响\n",
    "\n",
    "    Returns:\n",
    "        _type_: _description_\n",
    "    \"\"\"\n",
    "    \n",
    "    r = len(x)\n",
    "    \n",
    "    n = 0\n",
    "    \n",
    "    y_bar = 0\n",
    "    \n",
    "    y_sum = 0\n",
    "    \n",
    "    y_ibar = list()\n",
    "    \n",
    "    for i in x:\n",
    "        \n",
    "        t = len(i)\n",
    "        \n",
    "        n += t\n",
    "        \n",
    "        y_ibar.append(t * (sum(i) / t) ** 2)\n",
    "        \n",
    "        y_sum += sum(j ** 2 for j in i)\n",
    "        \n",
    "        y_bar += sum(i)\n",
    "        \n",
    "    y_bar /= n\n",
    "    \n",
    "    print(n)\n",
    "    \n",
    "    St = y_sum - n * y_bar ** 2\n",
    "    \n",
    "    Sa = sum(y_ibar) - n * y_bar ** 2\n",
    "    \n",
    "    Se = St - Sa\n",
    "    \n",
    "    F = (Sa / (r-1)) / (Se / (n-r))\n",
    "        \n",
    "    print(f\"y_bar = {y_bar},y_ibar = {y_ibar},F = {F},St = {St},Sa = {Sa},Se = {Se}\")\n",
    "    \n",
    "    return F,St,Sa,Se"
   ]
  },
  {
   "cell_type": "code",
   "execution_count": 20,
   "metadata": {},
   "outputs": [],
   "source": [
    "def linear_regression(x,y):\n",
    "    \"\"\"求解线性回归\n",
    "\n",
    "    Args:\n",
    "        x (_type_): _description_\n",
    "        y (_type_): _description_\n",
    "    \"\"\"\n",
    "    \n",
    "    x = np.array(x)\n",
    "    y = np.array(y)\n",
    "    \n",
    "    n = len(x)\n",
    "    m = len(y)\n",
    "    \n",
    "    if n != m:\n",
    "        raise ValueError(\"x,y长度不一致\")\n",
    "    \n",
    "\n",
    "    x_bar = sum(x)/n\n",
    "    y_bar = sum(y)/n\n",
    "    \n",
    "    lxx = sum(x**2) - n * x_bar **2\n",
    "    lyy = sum(y**2) - n * y_bar **2\n",
    "    lxy = sum(x*y) - n * x_bar * y_bar\n",
    "    \n",
    "    b_hat = lxy / lxx\n",
    "    a_hat = y_bar - b_hat * x_bar\n",
    "    \n",
    "    St = lyy\n",
    "    Sr = b_hat*lxy\n",
    "    Se = St - Sr\n",
    "    \n",
    "    F = Sr / (Se/(n-2))\n",
    "    \n",
    "    return a_hat,b_hat,F,St,Sr,Se"
   ]
  },
  {
   "cell_type": "code",
   "execution_count": 21,
   "metadata": {},
   "outputs": [
    {
     "name": "stdout",
     "output_type": "stream",
     "text": [
      "5.571235833783049 0.7277388019427956 567.6366062652144 565.7142857142826 560.7747282399192 4.939557474363369\n"
     ]
    }
   ],
   "source": [
    "x = [47,40,43,55,66,72,70]\n",
    "y = [40,35,37,44,55,58,56]\n",
    "\n",
    "a,b,F,St,Sr,Se = linear_regression(x,y)\n",
    "\n",
    "print(a,b,F,St,Sr,Se)"
   ]
  }
 ],
 "metadata": {
  "kernelspec": {
   "display_name": "base",
   "language": "python",
   "name": "python3"
  },
  "language_info": {
   "codemirror_mode": {
    "name": "ipython",
    "version": 3
   },
   "file_extension": ".py",
   "mimetype": "text/x-python",
   "name": "python",
   "nbconvert_exporter": "python",
   "pygments_lexer": "ipython3",
   "version": "3.9.13"
  }
 },
 "nbformat": 4,
 "nbformat_minor": 2
}
